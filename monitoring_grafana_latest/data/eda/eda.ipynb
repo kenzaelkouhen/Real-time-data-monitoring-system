{
 "cells": [
  {
   "cell_type": "code",
   "execution_count": 84,
   "metadata": {},
   "outputs": [],
   "source": [
    "import pandas as pd\n",
    "import numpy as np"
   ]
  },
  {
   "cell_type": "code",
   "execution_count": 4,
   "metadata": {},
   "outputs": [],
   "source": [
    "eventos = pd.read_json(\"../../simulation.jsonlines\", lines=True)\n",
    "planes = pd.read_json(\"../../plans.jsonlines\", lines=True)"
   ]
  },
  {
   "attachments": {},
   "cell_type": "markdown",
   "metadata": {},
   "source": [
    "# Recuentos básicos"
   ]
  },
  {
   "cell_type": "code",
   "execution_count": 11,
   "metadata": {},
   "outputs": [
    {
     "name": "stdout",
     "output_type": "stream",
     "text": [
      "Camiones:  20\n",
      "Localizaciones:  2030\n",
      "Viajes:  625\n",
      "Simulaciones:  100\n"
     ]
    }
   ],
   "source": [
    "# ¿Cuántos camiones hay?\n",
    "print(\"Camiones: \", eventos[\"truckId\"].nunique())\n",
    "# ¿Cuántas localizaciones hay?\n",
    "paquetes = pd.concat([pd.DataFrame(x) for x in planes[\"items\"]])\n",
    "print(\"Localizaciones: \", paquetes[\"locationId\"].nunique())\n",
    "# ¿Cuántos viajes hay? Interpretando que un viaje es la ruta de un camión en una simulación\n",
    "print(\"Viajes: \", len(eventos.groupby([\"truckId\", \"simulationId\"])))\n",
    "# ¿Cuántas simulaciones hay?\n",
    "print(\"Simulaciones: \", eventos[\"simulationId\"].nunique())\n"
   ]
  },
  {
   "attachments": {},
   "cell_type": "markdown",
   "metadata": {},
   "source": [
    "### Tiempos de viaje\n",
    "\n",
    "Según el plan de entrega, considerando que un viaje es el desplazamiento entre dos localizaciones"
   ]
  },
  {
   "cell_type": "code",
   "execution_count": 13,
   "metadata": {},
   "outputs": [
    {
     "data": {
      "text/plain": [
       "count    4059.000000\n",
       "mean      835.669130\n",
       "std       830.597292\n",
       "min         0.000000\n",
       "25%       302.500000\n",
       "50%       557.000000\n",
       "75%      1016.500000\n",
       "max      5442.000000\n",
       "Name: duration, dtype: float64"
      ]
     },
     "execution_count": 13,
     "metadata": {},
     "output_type": "execute_result"
    }
   ],
   "source": [
    "viajes = []\n",
    "for truck_list in planes[\"trucks\"]:\n",
    "    for truck in truck_list:\n",
    "        viajes.append(pd.DataFrame(truck[\"route\"]))\n",
    "viajes = pd.concat(viajes)\n",
    "viajes.duration.describe()"
   ]
  },
  {
   "cell_type": "code",
   "execution_count": 14,
   "metadata": {},
   "outputs": [
    {
     "data": {
      "text/plain": [
       "count    4051.000000\n",
       "mean      837.319427\n",
       "std       830.585603\n",
       "min        24.000000\n",
       "25%       304.000000\n",
       "50%       557.000000\n",
       "75%      1017.000000\n",
       "max      5442.000000\n",
       "Name: duration, dtype: float64"
      ]
     },
     "execution_count": 14,
     "metadata": {},
     "output_type": "execute_result"
    }
   ],
   "source": [
    "# filtramos los viajes que no tienen duración\n",
    "viajes[viajes.duration > 0].duration.describe()"
   ]
  },
  {
   "attachments": {},
   "cell_type": "markdown",
   "metadata": {},
   "source": [
    "### Tiempos de entrega\n",
    "\n",
    "Se calculan como la diferencia entre los eventTime de los eventos \"Truck started delivering\" y \"Truck ended delivering\""
   ]
  },
  {
   "cell_type": "code",
   "execution_count": 19,
   "metadata": {},
   "outputs": [
    {
     "data": {
      "text/plain": [
       "count      8575.000000\n",
       "mean      89751.167347\n",
       "std       30278.171637\n",
       "min           0.000000\n",
       "25%       60200.000000\n",
       "50%       60310.000000\n",
       "75%      120200.000000\n",
       "max      121920.000000\n",
       "Name: delta, dtype: float64"
      ]
     },
     "execution_count": 19,
     "metadata": {},
     "output_type": "execute_result"
    }
   ],
   "source": [
    "# Ordenamos los eventos por simulación, camión y tiempo\n",
    "eventos = eventos.sort_values([\"simulationId\", \"truckId\", \"eventTime\"])\n",
    "# filtramos para quedarnos con los eventos que nos interesan\n",
    "entregas = eventos[eventos.eventType.isin([\"Truck started delivering\", \"Truck ended delivering\"])]\n",
    "# restamos a cada fila el tiempo del evento anterior y luego nos quedamos solo con los eventos de fin de entrega\n",
    "entregas = entregas.assign(delta=entregas.eventTime - entregas.eventTime.shift(1)).loc[entregas.eventType == \"Truck ended delivering\"]\n",
    "entregas.delta.describe()"
   ]
  },
  {
   "cell_type": "code",
   "execution_count": 20,
   "metadata": {},
   "outputs": [
    {
     "data": {
      "text/plain": [
       "count      8555.000000\n",
       "mean      89960.988895\n",
       "std       30000.553329\n",
       "min       60020.000000\n",
       "25%       60200.000000\n",
       "50%       60320.000000\n",
       "75%      120200.000000\n",
       "max      121920.000000\n",
       "Name: delta, dtype: float64"
      ]
     },
     "execution_count": 20,
     "metadata": {},
     "output_type": "execute_result"
    }
   ],
   "source": [
    "# filtramos las entregas que no tienen duración\n",
    "entregas[entregas.delta > 0].delta.describe()"
   ]
  },
  {
   "cell_type": "code",
   "execution_count": 26,
   "metadata": {},
   "outputs": [
    {
     "data": {
      "text/plain": [
       "<AxesSubplot:ylabel='Frequency'>"
      ]
     },
     "execution_count": 26,
     "metadata": {},
     "output_type": "execute_result"
    },
    {
     "data": {
      "image/png": "[encoded data removed]",
      "text/plain": [
       "<Figure size 432x288 with 1 Axes>"
      ]
     },
     "metadata": {
      "needs_background": "light"
     },
     "output_type": "display_data"
    }
   ],
   "source": [
    "# en una gráfica\n",
    "entregas[entregas.delta > 0].delta.plot.hist(bins=100)"
   ]
  },
  {
   "attachments": {},
   "cell_type": "markdown",
   "metadata": {},
   "source": [
    "### Agrupaciones"
   ]
  },
  {
   "cell_type": "code",
   "execution_count": 43,
   "metadata": {},
   "outputs": [
    {
     "data": {
      "text/plain": [
       "count    625.000000\n",
       "mean       6.494400\n",
       "std        3.268495\n",
       "min        2.000000\n",
       "25%        4.000000\n",
       "50%        6.000000\n",
       "75%        9.000000\n",
       "max       15.000000\n",
       "dtype: float64"
      ]
     },
     "execution_count": 43,
     "metadata": {},
     "output_type": "execute_result"
    }
   ],
   "source": [
    "# Número de paquetes por cada camión. Considerando en cada simulación\n",
    "camiones = []\n",
    "for simId in planes.simulationId.unique():\n",
    "    for truck in planes[planes.simulationId == simId].trucks.values[0]:\n",
    "        camiones.append(pd.DataFrame(truck[\"route\"]).assign(simulationId=simId, truckId=truck[\"truck_id\"]))\n",
    "camiones = pd.concat(camiones)\n",
    "camiones.groupby([\"simulationId\", \"truckId\"]).size().describe()\n"
   ]
  },
  {
   "cell_type": "code",
   "execution_count": 44,
   "metadata": {},
   "outputs": [
    {
     "data": {
      "text/plain": [
       "count    100.000000\n",
       "mean      85.790000\n",
       "std        9.651812\n",
       "min       68.000000\n",
       "25%       78.000000\n",
       "50%       86.500000\n",
       "75%       93.000000\n",
       "max      106.000000\n",
       "Name: items, dtype: float64"
      ]
     },
     "execution_count": 44,
     "metadata": {},
     "output_type": "execute_result"
    }
   ],
   "source": [
    "# Número de paquetes por cada simulación\n",
    "planes[\"items\"].apply(len).describe()"
   ]
  },
  {
   "attachments": {},
   "cell_type": "markdown",
   "metadata": {},
   "source": [
    "## Preguntas sencillas"
   ]
  },
  {
   "cell_type": "code",
   "execution_count": 100,
   "metadata": {},
   "outputs": [
    {
     "name": "stdout",
     "output_type": "stream",
     "text": [
      "Las localizaciones más visitadas, con  6  visitas, son:  ['1fc942f4744ab3ea3b8d1009' '7e975a3a8ac9b661a5eeb963'\n",
      " 'faf06210580833f8c7963506' '27dd57ad86f32b35c0eaf1cc'\n",
      " '49177b9a644f14dcbbdc32c1' '794ef428d858678e69ec18f4']\n",
      "Las localizaciones con más paquetes recibidos son:\n",
      "794ef428d858678e69ec18f4    18\n",
      "8ffce61f79bacefe2a6b5f16    18\n",
      "e8b12df2ab69d3300dfd0434    17\n",
      "ce6feed06bc1a9e5aff95f04    16\n",
      "c61593b7ca2c3037053cd317    16\n",
      "3d7e64824d4d3abb200b3c1b    16\n",
      "90a34d33b273c9c35b709734    16\n",
      "c8d0b848c426f58c5e525448    15\n",
      "544dc8cb8104ca9be64e088e    15\n",
      "87dba784e93d5a2519b2498b    15\n",
      "Name: items, dtype: int64\n",
      "Los camiones con más paquetes transportados son:\n",
      "truckId\n",
      "3321FBL    793\n",
      "5534TPH    785\n",
      "3953RLD    633\n",
      "5030LXK    422\n",
      "6270NFM    380\n",
      "0013DYS    270\n",
      "9593DXM    181\n",
      "8386WZB    177\n",
      "6965XLY    135\n",
      "0781PZL    106\n",
      "dtype: int64\n",
      "Distribución del número de eventos de cada tipo\n",
      "AxesSubplot(0.125,0.125;0.775x0.755)\n"
     ]
    },
    {
     "data": {
      "image/png": "[encoded data removed]",
      "text/plain": [
       "<Figure size 432x288 with 1 Axes>"
      ]
     },
     "metadata": {
      "needs_background": "light"
     },
     "output_type": "display_data"
    }
   ],
   "source": [
    "# Localización más visitada. Considero la localización que más veces se ha visitado en diferentes simulaciones\n",
    "loc_counts = planes[\"items\"].apply(lambda x: set([l[\"locationId\"] for l in x])).explode().value_counts()\n",
    "print(\"Las localizaciones más visitadas, con \",loc_counts.values[0], \" visitas, son: \", loc_counts.where(loc_counts == loc_counts.values[0]).dropna().index.values)\n",
    "\n",
    "# Número de paquetes recibidos por cada localización\n",
    "loc_counts = planes[\"items\"].apply(lambda x: [l[\"locationId\"] for l in x]).explode().value_counts()\n",
    "print(\"Las localizaciones con más paquetes recibidos son:\")\n",
    "print(loc_counts.head(10))\n",
    "\n",
    "# Número de paquetes transportados en total en cada camión\n",
    "print(\"Los camiones con más paquetes transportados son:\")\n",
    "print(camiones.groupby([\"truckId\"]).size().sort_values(ascending=False).head(10))\n",
    "\n",
    "# Número de localizaciones distintas que ha visitado cada camión\n",
    "print(\"Número de localizaciones distintas que ha visitado cada camión:\")\n",
    "print(camiones.groupby([\"truckId\"])[\"destination\"].nunique())\n",
    "\n",
    "# Distribución del número de eventos de cada tipo\n",
    "print(\"Distribución del número de eventos de cada tipo\")\n",
    "print(eventos.eventType.value_counts().plot.bar())\n",
    "\n",
    "# Número de paquetes que lleva cada camión en cada viaje (ya calculada en la sección anterior)"
   ]
  },
  {
   "attachments": {},
   "cell_type": "markdown",
   "metadata": {},
   "source": [
    "## Preguntas medias"
   ]
  },
  {
   "cell_type": "code",
   "execution_count": null,
   "metadata": {},
   "outputs": [],
   "source": [
    "eventos = eventos.sort_values([\"simulationId\", \"truckId\", \"eventTime\"])\n",
    "eventos[\"prev_event\"] = eventos.groupby([\"truckId\", \"simulationId\"])[\"eventType\"].shift(1)\n",
    "eventos[\"prev_time\"] = eventos.groupby([\"truckId\", \"simulationId\"])[\"eventTime\"].shift(1)\n",
    "eventos[\"delta\"] = eventos.eventTime - eventos.prev_time"
   ]
  },
  {
   "cell_type": "code",
   "execution_count": 98,
   "metadata": {},
   "outputs": [
    {
     "name": "stdout",
     "output_type": "stream",
     "text": [
      "La localización que más camiones distintos ( 20 ) han visitado es:  ce6feed06bc1a9e5aff95f04\n",
      "Tiempos de viaje: \n",
      "count    4.057000e+03\n",
      "mean     8.322312e+05\n",
      "std      8.309798e+05\n",
      "min      0.000000e+00\n",
      "25%      3.006600e+05\n",
      "50%      5.541500e+05\n",
      "75%      1.008570e+06\n",
      "max      5.442690e+06\n",
      "Name: delta, dtype: float64\n",
      "Horas que cada camión ha estado activo: \n",
      "truckId\n",
      "0013DYS     80.780347\n",
      "0184WLX      1.500631\n",
      "0265TYL     14.990372\n",
      "0781PZL     32.959181\n",
      "1012GWV      1.760936\n",
      "1161GJN      2.662236\n",
      "1316CKM      1.256867\n",
      "1489WHW      1.740886\n",
      "1669HSZ     10.944992\n",
      "2423VRT     22.995414\n",
      "3321FBL    173.650892\n",
      "3953RLD    166.708517\n",
      "5030LXK    131.983269\n",
      "5534TPH    188.514756\n",
      "6270NFM     95.850156\n",
      "6965XLY     45.687553\n",
      "8327DZH      1.619886\n",
      "8386WZB     91.684258\n",
      "8809GPH      3.635175\n",
      "9593DXM     86.500686\n",
      "Name: eventTime, dtype: float64\n",
      "De las cuales en viaje: \n",
      "truckId\n",
      "0013DYS     67.629875\n",
      "0184WLX      1.466956\n",
      "0265TYL     13.232144\n",
      "0781PZL     27.637636\n",
      "1012GWV      1.677231\n",
      "1161GJN      2.360153\n",
      "1316CKM      1.056281\n",
      "1489WHW      1.640456\n",
      "1669HSZ      9.956658\n",
      "2423VRT     18.219200\n",
      "3321FBL    129.184911\n",
      "3953RLD    130.332417\n",
      "5030LXK    108.971806\n",
      "5534TPH    144.295122\n",
      "6270NFM     75.675006\n",
      "6965XLY     38.860072\n",
      "8327DZH      1.519417\n",
      "8386WZB     81.842697\n",
      "8809GPH      3.313742\n",
      "9593DXM     79.006589\n",
      "Name: delta, dtype: float64\n",
      "Y entregando paquetes: \n",
      "truckId\n",
      "0013DYS    13.097411\n",
      "0184WLX     0.033444\n",
      "0265TYL     1.753889\n",
      "0781PZL     5.313275\n",
      "1012GWV     0.083500\n",
      "1161GJN     0.300631\n",
      "1316CKM     0.200419\n",
      "1489WHW     0.100219\n",
      "1669HSZ     0.985497\n",
      "2423VRT     4.593169\n",
      "3321FBL    43.482542\n",
      "3953RLD    34.843567\n",
      "5030LXK    22.534586\n",
      "5534TPH    43.730461\n",
      "6270NFM    19.710561\n",
      "6965XLY     6.815353\n",
      "8327DZH     0.100278\n",
      "8386WZB     8.669692\n",
      "8809GPH     0.317783\n",
      "9593DXM     7.116017\n",
      "Name: delta, dtype: float64\n",
      "Diferencia de tiempos entre un evento y el siguiente:\n",
      "count    2.589000e+04\n",
      "mean     1.609388e+05\n",
      "std      4.414345e+05\n",
      "min      0.000000e+00\n",
      "25%      0.000000e+00\n",
      "50%      7.000000e+02\n",
      "75%      1.202000e+05\n",
      "max      5.442690e+06\n",
      "Name: delta, dtype: float64\n",
      "Agregando por tipo de evento origen y destino:\n",
      "                                                    count          mean  \\\n",
      "prev_event               eventType                                        \n",
      "Truck arrived            Truck ended delivering      21.0  1.001910e+05   \n",
      "                         Truck started delivering  3412.0  9.437280e-01   \n",
      "Truck departed           Truck arrived             3409.0  7.831950e+05   \n",
      "                         Truck started delivering    20.0  9.037885e+05   \n",
      "Truck departed to depot  Truck arrived                3.0  2.299200e+05   \n",
      "                         Truck ended route          624.0  1.131027e+06   \n",
      "                         Truck started delivering     1.0  1.000000e+01   \n",
      "Truck ended delivering   Truck departed            2808.0  1.311289e+02   \n",
      "                         Truck departed to depot    625.0  1.847680e+02   \n",
      "                         Truck ended delivering      20.0  8.721650e+04   \n",
      "                         Truck started delivering  5122.0  8.648965e-01   \n",
      "Truck initialized        Truck departed              97.0  9.214433e+02   \n",
      "                         Truck received packets     528.0  0.000000e+00   \n",
      "Truck received packets   Truck departed             524.0  7.233206e+02   \n",
      "                         Truck departed to depot      4.0  7.050000e+02   \n",
      "                         Truck initialized           97.0  3.206186e+01   \n",
      "Truck started delivering Truck arrived               21.0  0.000000e+00   \n",
      "                         Truck ended delivering    8534.0  8.973142e+04   \n",
      "                         Truck started delivering    20.0  8.427200e+04   \n",
      "\n",
      "                                                            std       min  \\\n",
      "prev_event               eventType                                          \n",
      "Truck arrived            Truck ended delivering    2.898347e+04   60130.0   \n",
      "                         Truck started delivering  4.756184e+00       0.0   \n",
      "Truck departed           Truck arrived             7.590001e+05   24580.0   \n",
      "                         Truck started delivering  7.713461e+05  152820.0   \n",
      "Truck departed to depot  Truck arrived             3.981812e+05      10.0   \n",
      "                         Truck ended route         1.102774e+06       0.0   \n",
      "                         Truck started delivering           NaN      10.0   \n",
      "Truck ended delivering   Truck departed            3.907497e+02      20.0   \n",
      "                         Truck departed to depot   5.829599e+02      20.0   \n",
      "                         Truck ended delivering    3.060677e+04   60110.0   \n",
      "                         Truck started delivering  3.859182e+00       0.0   \n",
      "Truck initialized        Truck departed            5.063451e+02     230.0   \n",
      "                         Truck received packets    0.000000e+00       0.0   \n",
      "Truck received packets   Truck departed            4.228561e+02     120.0   \n",
      "                         Truck departed to depot   1.912241e+02     480.0   \n",
      "                         Truck initialized         3.837692e+01       0.0   \n",
      "Truck started delivering Truck arrived             0.000000e+00       0.0   \n",
      "                         Truck ended delivering    3.027927e+04       0.0   \n",
      "                         Truck started delivering  3.014034e+04   60200.0   \n",
      "\n",
      "                                                        25%       50%  \\\n",
      "prev_event               eventType                                      \n",
      "Truck arrived            Truck ended delivering     60200.0  120190.0   \n",
      "                         Truck started delivering       0.0       0.0   \n",
      "Truck departed           Truck arrived             287960.0  545620.0   \n",
      "                         Truck started delivering  312817.5  789715.0   \n",
      "Truck departed to depot  Truck arrived                 30.0      50.0   \n",
      "                         Truck ended route         408775.0  648885.0   \n",
      "                         Truck started delivering      10.0      10.0   \n",
      "Truck ended delivering   Truck departed                60.0      80.0   \n",
      "                         Truck departed to depot       70.0     100.0   \n",
      "                         Truck ended delivering     60200.0   60420.0   \n",
      "                         Truck started delivering       0.0       0.0   \n",
      "Truck initialized        Truck departed               540.0     780.0   \n",
      "                         Truck received packets         0.0       0.0   \n",
      "Truck received packets   Truck departed               420.0     590.0   \n",
      "                         Truck departed to depot      592.5     710.0   \n",
      "                         Truck initialized             10.0      10.0   \n",
      "Truck started delivering Truck arrived                  0.0       0.0   \n",
      "                         Truck ended delivering     60200.0   60310.0   \n",
      "                         Truck started delivering   60200.0   60505.0   \n",
      "\n",
      "                                                         75%        max  \n",
      "prev_event               eventType                                       \n",
      "Truck arrived            Truck ended delivering     120200.0   120290.0  \n",
      "                         Truck started delivering        0.0      190.0  \n",
      "Truck departed           Truck arrived              959020.0  5442690.0  \n",
      "                         Truck started delivering  1158467.5  2993520.0  \n",
      "Truck departed to depot  Truck arrived              344875.0   689700.0  \n",
      "                         Truck ended route         1493777.5  5319460.0  \n",
      "                         Truck started delivering       10.0       10.0  \n",
      "Truck ended delivering   Truck departed                110.0    11430.0  \n",
      "                         Truck departed to depot       140.0     8120.0  \n",
      "                         Truck ended delivering     120200.0   120310.0  \n",
      "                         Truck started delivering        0.0      170.0  \n",
      "Truck initialized        Truck departed               1220.0     2250.0  \n",
      "                         Truck received packets          0.0        0.0  \n",
      "Truck received packets   Truck departed                912.5     2590.0  \n",
      "                         Truck departed to depot       822.5      920.0  \n",
      "                         Truck initialized              40.0      180.0  \n",
      "Truck started delivering Truck arrived                   0.0        0.0  \n",
      "                         Truck ended delivering     120200.0   121920.0  \n",
      "                         Truck started delivering   120197.5   120320.0  \n"
     ]
    }
   ],
   "source": [
    "# La localización que más camiones (distintos) han visitado\n",
    "loc = camiones.groupby([\"truckId\"])[\"destination\"].unique().explode().value_counts()\n",
    "print(\"La localización que más camiones distintos (\",loc.values[0] ,\") han visitado es: \", loc.index[0])\n",
    "\n",
    "# Tiempo de viaje máximo, mínimo y medio. Según los eventos de inicio y fin de viaje\n",
    "print(\"Tiempos de viaje: \")\n",
    "print(eventos[eventos.eventType.isin([\"Truck arrived\", \"Truck ended route\"])].delta.describe())\n",
    "\n",
    "# Tiempo de entrega máximo, mínimo y medio (ya calculado en la primera sección)\n",
    "\n",
    "# Nº de horas que cada camión ha estado activo\n",
    "print(\"Horas que cada camión ha estado activo: \")\n",
    "print(eventos.groupby([\"truckId\", \"simulationId\"]).eventTime.max().reset_index().groupby(\"truckId\")[\"eventTime\"].sum()/3600000)\n",
    "# Cuántas de viaje\n",
    "print(\"De las cuales en viaje: \")\n",
    "print(eventos[eventos.eventType.isin([\"Truck arrived\", \"Truck ended route\"])].groupby(\"truckId\").delta.sum()/3600000)\n",
    "# Cuántas en total (contando tiempos de entrega)\n",
    "print(\"Y entregando paquetes: \")\n",
    "print(entregas.groupby(\"truckId\").delta.sum()/3600000)\n",
    "\n",
    "\n",
    "# Diferencia de tiempos entre un evento y el siguiente (de la misma simulación y mismo camión)\n",
    "print(\"Diferencia de tiempos entre un evento y el siguiente:\")\n",
    "print(eventos.delta.describe())\n",
    "# Agregar por tipo de evento “origen” y “destino”\n",
    "print(\"Agregando por tipo de evento origen y destino:\")\n",
    "print(eventos.groupby([\"prev_event\", \"eventType\"]).delta.describe())\n",
    "\n"
   ]
  },
  {
   "attachments": {},
   "cell_type": "markdown",
   "metadata": {},
   "source": [
    "# Preguntas Avanzadas"
   ]
  },
  {
   "cell_type": "code",
   "execution_count": 112,
   "metadata": {},
   "outputs": [
    {
     "data": {
      "text/html": [
       "<div>\n",
       "<style scoped>\n",
       "    .dataframe tbody tr th:only-of-type {\n",
       "        vertical-align: middle;\n",
       "    }\n",
       "\n",
       "    .dataframe tbody tr th {\n",
       "        vertical-align: top;\n",
       "    }\n",
       "\n",
       "    .dataframe thead th {\n",
       "        text-align: right;\n",
       "    }\n",
       "</style>\n",
       "<table border=\"1\" class=\"dataframe\">\n",
       "  <thead>\n",
       "    <tr style=\"text-align: right;\">\n",
       "      <th></th>\n",
       "      <th>simulationId</th>\n",
       "      <th>truckId</th>\n",
       "      <th>tiempo_plan</th>\n",
       "    </tr>\n",
       "  </thead>\n",
       "  <tbody>\n",
       "    <tr>\n",
       "      <th>0</th>\n",
       "      <td>00ab3765-2a12-425d-a12a-07577a572829</td>\n",
       "      <td>0013DYS</td>\n",
       "      <td>[502000, 730000, 259000, 548000, 272000, 1660000]</td>\n",
       "    </tr>\n",
       "    <tr>\n",
       "      <th>1</th>\n",
       "      <td>00ab3765-2a12-425d-a12a-07577a572829</td>\n",
       "      <td>3321FBL</td>\n",
       "      <td>[154000, 405000, 379000, 758000, 85000, 422000...</td>\n",
       "    </tr>\n",
       "    <tr>\n",
       "      <th>2</th>\n",
       "      <td>00ab3765-2a12-425d-a12a-07577a572829</td>\n",
       "      <td>3953RLD</td>\n",
       "      <td>[486000, 1678000, 722000, 1684000]</td>\n",
       "    </tr>\n",
       "    <tr>\n",
       "      <th>3</th>\n",
       "      <td>00ab3765-2a12-425d-a12a-07577a572829</td>\n",
       "      <td>5534TPH</td>\n",
       "      <td>[534000, 366000, 147000, 552000, 51000, 777000...</td>\n",
       "    </tr>\n",
       "    <tr>\n",
       "      <th>4</th>\n",
       "      <td>00ab3765-2a12-425d-a12a-07577a572829</td>\n",
       "      <td>6270NFM</td>\n",
       "      <td>[1307000, 1377000, 1900000]</td>\n",
       "    </tr>\n",
       "    <tr>\n",
       "      <th>...</th>\n",
       "      <td>...</td>\n",
       "      <td>...</td>\n",
       "      <td>...</td>\n",
       "    </tr>\n",
       "    <tr>\n",
       "      <th>620</th>\n",
       "      <td>fd4bc7cb-f234-4653-a87d-2514d6df6eca</td>\n",
       "      <td>3953RLD</td>\n",
       "      <td>[154000, 4097000, 3829000, 511000]</td>\n",
       "    </tr>\n",
       "    <tr>\n",
       "      <th>621</th>\n",
       "      <td>fd4bc7cb-f234-4653-a87d-2514d6df6eca</td>\n",
       "      <td>5030LXK</td>\n",
       "      <td>[714000, 322000, 223000, 877000, 890000, 10100...</td>\n",
       "    </tr>\n",
       "    <tr>\n",
       "      <th>622</th>\n",
       "      <td>fd4bc7cb-f234-4653-a87d-2514d6df6eca</td>\n",
       "      <td>5534TPH</td>\n",
       "      <td>[1327000, 77000, 418000, 215000, 237000, 58100...</td>\n",
       "    </tr>\n",
       "    <tr>\n",
       "      <th>623</th>\n",
       "      <td>fd4bc7cb-f234-4653-a87d-2514d6df6eca</td>\n",
       "      <td>6270NFM</td>\n",
       "      <td>[772000, 169000, 124000, 190000, 198000, 28800...</td>\n",
       "    </tr>\n",
       "    <tr>\n",
       "      <th>624</th>\n",
       "      <td>fd4bc7cb-f234-4653-a87d-2514d6df6eca</td>\n",
       "      <td>8386WZB</td>\n",
       "      <td>[4369000, 4419000]</td>\n",
       "    </tr>\n",
       "  </tbody>\n",
       "</table>\n",
       "<p>625 rows × 3 columns</p>\n",
       "</div>"
      ],
      "text/plain": [
       "                             simulationId  truckId  \\\n",
       "0    00ab3765-2a12-425d-a12a-07577a572829  0013DYS   \n",
       "1    00ab3765-2a12-425d-a12a-07577a572829  3321FBL   \n",
       "2    00ab3765-2a12-425d-a12a-07577a572829  3953RLD   \n",
       "3    00ab3765-2a12-425d-a12a-07577a572829  5534TPH   \n",
       "4    00ab3765-2a12-425d-a12a-07577a572829  6270NFM   \n",
       "..                                    ...      ...   \n",
       "620  fd4bc7cb-f234-4653-a87d-2514d6df6eca  3953RLD   \n",
       "621  fd4bc7cb-f234-4653-a87d-2514d6df6eca  5030LXK   \n",
       "622  fd4bc7cb-f234-4653-a87d-2514d6df6eca  5534TPH   \n",
       "623  fd4bc7cb-f234-4653-a87d-2514d6df6eca  6270NFM   \n",
       "624  fd4bc7cb-f234-4653-a87d-2514d6df6eca  8386WZB   \n",
       "\n",
       "                                           tiempo_plan  \n",
       "0    [502000, 730000, 259000, 548000, 272000, 1660000]  \n",
       "1    [154000, 405000, 379000, 758000, 85000, 422000...  \n",
       "2                   [486000, 1678000, 722000, 1684000]  \n",
       "3    [534000, 366000, 147000, 552000, 51000, 777000...  \n",
       "4                          [1307000, 1377000, 1900000]  \n",
       "..                                                 ...  \n",
       "620                 [154000, 4097000, 3829000, 511000]  \n",
       "621  [714000, 322000, 223000, 877000, 890000, 10100...  \n",
       "622  [1327000, 77000, 418000, 215000, 237000, 58100...  \n",
       "623  [772000, 169000, 124000, 190000, 198000, 28800...  \n",
       "624                                 [4369000, 4419000]  \n",
       "\n",
       "[625 rows x 3 columns]"
      ]
     },
     "execution_count": 112,
     "metadata": {},
     "output_type": "execute_result"
    }
   ],
   "source": [
    "tiempos_plan = camiones.sort_values([\"simulationId\",\"truckId\"]).assign(duration=lambda x: x[\"duration\"]*1000).groupby([\"simulationId\",\"truckId\"]).duration.agg(list).reset_index()\n",
    "tiempos_plan.rename(columns={\"duration\":\"tiempo_plan\"}, inplace=True)\n",
    "tiempos_plan"
   ]
  },
  {
   "cell_type": "code",
   "execution_count": 113,
   "metadata": {},
   "outputs": [
    {
     "data": {
      "text/html": [
       "<div>\n",
       "<style scoped>\n",
       "    .dataframe tbody tr th:only-of-type {\n",
       "        vertical-align: middle;\n",
       "    }\n",
       "\n",
       "    .dataframe tbody tr th {\n",
       "        vertical-align: top;\n",
       "    }\n",
       "\n",
       "    .dataframe thead th {\n",
       "        text-align: right;\n",
       "    }\n",
       "</style>\n",
       "<table border=\"1\" class=\"dataframe\">\n",
       "  <thead>\n",
       "    <tr style=\"text-align: right;\">\n",
       "      <th></th>\n",
       "      <th>simulationId</th>\n",
       "      <th>truckId</th>\n",
       "      <th>tiempo_sim</th>\n",
       "    </tr>\n",
       "  </thead>\n",
       "  <tbody>\n",
       "    <tr>\n",
       "      <th>0</th>\n",
       "      <td>00ab3765-2a12-425d-a12a-07577a572829</td>\n",
       "      <td>0013DYS</td>\n",
       "      <td>[502180.0, 730650.0, 259140.0, 548940.0, 27281...</td>\n",
       "    </tr>\n",
       "    <tr>\n",
       "      <th>1</th>\n",
       "      <td>00ab3765-2a12-425d-a12a-07577a572829</td>\n",
       "      <td>3321FBL</td>\n",
       "      <td>[154980.0, 405820.0, 379110.0, 758550.0, 85260...</td>\n",
       "    </tr>\n",
       "    <tr>\n",
       "      <th>2</th>\n",
       "      <td>00ab3765-2a12-425d-a12a-07577a572829</td>\n",
       "      <td>3953RLD</td>\n",
       "      <td>[486100.0, 1678300.0, 722340.0, 1684850.0]</td>\n",
       "    </tr>\n",
       "    <tr>\n",
       "      <th>3</th>\n",
       "      <td>00ab3765-2a12-425d-a12a-07577a572829</td>\n",
       "      <td>5534TPH</td>\n",
       "      <td>[534930.0, 366310.0, 147260.0, 552830.0, 51980...</td>\n",
       "    </tr>\n",
       "    <tr>\n",
       "      <th>4</th>\n",
       "      <td>00ab3765-2a12-425d-a12a-07577a572829</td>\n",
       "      <td>6270NFM</td>\n",
       "      <td>[1308010.0, 1377610.0, 1901050.0]</td>\n",
       "    </tr>\n",
       "    <tr>\n",
       "      <th>...</th>\n",
       "      <td>...</td>\n",
       "      <td>...</td>\n",
       "      <td>...</td>\n",
       "    </tr>\n",
       "    <tr>\n",
       "      <th>619</th>\n",
       "      <td>fd4bc7cb-f234-4653-a87d-2514d6df6eca</td>\n",
       "      <td>3953RLD</td>\n",
       "      <td>[154990.0, 4097980.0, 3830120.0, 511620.0]</td>\n",
       "    </tr>\n",
       "    <tr>\n",
       "      <th>620</th>\n",
       "      <td>fd4bc7cb-f234-4653-a87d-2514d6df6eca</td>\n",
       "      <td>5030LXK</td>\n",
       "      <td>[715090.0, 322930.0, 223260.0, 877610.0, 89063...</td>\n",
       "    </tr>\n",
       "    <tr>\n",
       "      <th>621</th>\n",
       "      <td>fd4bc7cb-f234-4653-a87d-2514d6df6eca</td>\n",
       "      <td>5534TPH</td>\n",
       "      <td>[1327170.0, 77850.0, 418140.0, 215750.0, 23805...</td>\n",
       "    </tr>\n",
       "    <tr>\n",
       "      <th>622</th>\n",
       "      <td>fd4bc7cb-f234-4653-a87d-2514d6df6eca</td>\n",
       "      <td>6270NFM</td>\n",
       "      <td>[772130.0, 169930.0, 124920.0, 191040.0, 19905...</td>\n",
       "    </tr>\n",
       "    <tr>\n",
       "      <th>623</th>\n",
       "      <td>fd4bc7cb-f234-4653-a87d-2514d6df6eca</td>\n",
       "      <td>8386WZB</td>\n",
       "      <td>[4369570.0, 4419680.0]</td>\n",
       "    </tr>\n",
       "  </tbody>\n",
       "</table>\n",
       "<p>624 rows × 3 columns</p>\n",
       "</div>"
      ],
      "text/plain": [
       "                             simulationId  truckId  \\\n",
       "0    00ab3765-2a12-425d-a12a-07577a572829  0013DYS   \n",
       "1    00ab3765-2a12-425d-a12a-07577a572829  3321FBL   \n",
       "2    00ab3765-2a12-425d-a12a-07577a572829  3953RLD   \n",
       "3    00ab3765-2a12-425d-a12a-07577a572829  5534TPH   \n",
       "4    00ab3765-2a12-425d-a12a-07577a572829  6270NFM   \n",
       "..                                    ...      ...   \n",
       "619  fd4bc7cb-f234-4653-a87d-2514d6df6eca  3953RLD   \n",
       "620  fd4bc7cb-f234-4653-a87d-2514d6df6eca  5030LXK   \n",
       "621  fd4bc7cb-f234-4653-a87d-2514d6df6eca  5534TPH   \n",
       "622  fd4bc7cb-f234-4653-a87d-2514d6df6eca  6270NFM   \n",
       "623  fd4bc7cb-f234-4653-a87d-2514d6df6eca  8386WZB   \n",
       "\n",
       "                                            tiempo_sim  \n",
       "0    [502180.0, 730650.0, 259140.0, 548940.0, 27281...  \n",
       "1    [154980.0, 405820.0, 379110.0, 758550.0, 85260...  \n",
       "2           [486100.0, 1678300.0, 722340.0, 1684850.0]  \n",
       "3    [534930.0, 366310.0, 147260.0, 552830.0, 51980...  \n",
       "4                    [1308010.0, 1377610.0, 1901050.0]  \n",
       "..                                                 ...  \n",
       "619         [154990.0, 4097980.0, 3830120.0, 511620.0]  \n",
       "620  [715090.0, 322930.0, 223260.0, 877610.0, 89063...  \n",
       "621  [1327170.0, 77850.0, 418140.0, 215750.0, 23805...  \n",
       "622  [772130.0, 169930.0, 124920.0, 191040.0, 19905...  \n",
       "623                             [4369570.0, 4419680.0]  \n",
       "\n",
       "[624 rows x 3 columns]"
      ]
     },
     "execution_count": 113,
     "metadata": {},
     "output_type": "execute_result"
    }
   ],
   "source": [
    "tiempos_sim = eventos[eventos.eventType.isin([\"Truck arrived\", \"Truck ended route\"])].sort_values([\"simulationId\",\"truckId\", \"eventTime\"]).groupby([\"simulationId\",\"truckId\"]).delta.agg(list).reset_index()\n",
    "tiempos_sim.rename(columns={\"delta\":\"tiempo_sim\"}, inplace=True)\n",
    "tiempos_sim"
   ]
  },
  {
   "cell_type": "code",
   "execution_count": 121,
   "metadata": {},
   "outputs": [],
   "source": [
    "retrasos = tiempos_sim.merge(tiempos_plan, on=[\"simulationId\",\"truckId\"]).dropna().reset_index(drop=True)"
   ]
  },
  {
   "cell_type": "code",
   "execution_count": 137,
   "metadata": {},
   "outputs": [],
   "source": [
    "retrasos[\"retraso\"] = retrasos.apply(lambda x: np.array(x.tiempo_sim)-np.array(x.tiempo_plan), axis=1)\n"
   ]
  },
  {
   "cell_type": "code",
   "execution_count": 151,
   "metadata": {},
   "outputs": [
    {
     "data": {
      "text/plain": [
       "count    4057.000000\n",
       "mean       -3.849860\n",
       "std        82.432945\n",
       "min     -2993.000000\n",
       "25%         0.350000\n",
       "50%         0.610000\n",
       "75%         0.850000\n",
       "max         2.320000\n",
       "Name: retraso, dtype: float64"
      ]
     },
     "execution_count": 151,
     "metadata": {},
     "output_type": "execute_result"
    }
   ],
   "source": [
    "valores_retraso = retrasos.explode(\"retraso\").reset_index(drop=True)\n",
    "valores_retraso.retraso.apply(lambda x: x/1000).describe()"
   ]
  },
  {
   "cell_type": "code",
   "execution_count": null,
   "metadata": {},
   "outputs": [],
   "source": []
  }
 ],
 "metadata": {
  "kernelspec": {
   "display_name": "Python 3",
   "language": "python",
   "name": "python3"
  },
  "language_info": {
   "codemirror_mode": {
    "name": "ipython",
    "version": 3
   },
   "file_extension": ".py",
   "mimetype": "text/x-python",
   "name": "python",
   "nbconvert_exporter": "python",
   "pygments_lexer": "ipython3",
   "version": "3.9.7"
  },
  "orig_nbformat": 4,
  "vscode": {
   "interpreter": {
    "hash": "c0de1fe606f85d3f2aa9a903f2b0bf89b43d937b91ee737bd06cf0188ff610aa"
   }
  }
 },
 "nbformat": 4,
 "nbformat_minor": 2
}
