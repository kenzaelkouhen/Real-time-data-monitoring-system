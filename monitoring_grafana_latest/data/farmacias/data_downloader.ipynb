{
 "cells": [
  {
   "cell_type": "code",
   "execution_count": null,
   "metadata": {},
   "outputs": [],
   "source": [
    "import pandas as pd\n",
    "import utm\n",
    "import json"
   ]
  },
  {
   "cell_type": "code",
   "execution_count": null,
   "metadata": {},
   "outputs": [],
   "source": [
    "# read data from url\n",
    "url = \"https://datos.comunidad.madrid/catalogo/dataset/6f407280-6ab1-43fb-bb48-ab954ec6edae/resource/130c1f6e-b131-44a1-94c9-00c9bb807ca6/download/oficinas_farmacia.csv\"\n",
    "df = pd.read_csv(url, sep=\";\", encoding=\"latin-1\")\n",
    "\n",
    "# convert coordinates\n",
    "df[\"lat\"], df[\"lon\"] = utm.to_latlon(df[\"localizacion_coordenada_x\"], df[\"localizacion_coordenada_y\"], 30, \"N\")\n",
    "\n",
    "# create name column\n",
    "df[\"name\"] = df[\"direccion_vial_tipo\"].str.lower() + \" \" + df[\"direccion_vial_nombre\"] + \", \" + df[\"direccion_vial_nro\"] + \", \" + df[\"municipio_nombre\"]\n",
    "\n",
    "# drop null values\n",
    "df.dropna(inplace=True)\n",
    "\n",
    "# create dictionary and transform data to required format\n",
    "data = df[[\"name\", \"lon\", \"lat\"]].to_dict(orient=\"records\")\n",
    "data = [{\"name\": x[\"name\"], \"coordinates\": {\"longitude\": x[\"lon\"], \"latitude\": x[\"lat\"]}} for x in data]\n",
    "\n",
    "# save data as json\n",
    "with open(\"farmacias.json\", \"w\") as outfile:\n",
    "    json.dump(data, outfile)\n"
   ]
  }
 ],
 "metadata": {
  "kernelspec": {
   "display_name": "Python 3",
   "language": "python",
   "name": "python3"
  },
  "language_info": {
   "codemirror_mode": {
    "name": "ipython",
    "version": 3
   },
   "file_extension": ".py",
   "mimetype": "text/x-python",
   "name": "python",
   "nbconvert_exporter": "python",
   "pygments_lexer": "ipython3",
   "version": "3.9.7"
  },
  "orig_nbformat": 4,
  "vscode": {
   "interpreter": {
    "hash": "c0de1fe606f85d3f2aa9a903f2b0bf89b43d937b91ee737bd06cf0188ff610aa"
   }
  }
 },
 "nbformat": 4,
 "nbformat_minor": 2
}
