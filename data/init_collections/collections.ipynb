{
 "cells": [
  {
   "cell_type": "code",
   "execution_count": null,
   "metadata": {},
   "outputs": [],
   "source": [
    "import pymongo\n",
    "import faker\n",
    "import json\n",
    "from bson import ObjectId\n",
    "import hashlib"
   ]
  },
  {
   "cell_type": "code",
   "execution_count": null,
   "metadata": {},
   "outputs": [],
   "source": [
    "# Connect to the MongoDB with user and password\n",
    "db = pymongo.MongoClient(\"mongodb://localhost:27017/\")[\"simulator\"]"
   ]
  },
  {
   "cell_type": "code",
   "execution_count": null,
   "metadata": {},
   "outputs": [],
   "source": [
    "# Create a fake truck data generator\n",
    "faker.Faker.seed(42)\n",
    "\n",
    "fake = faker.Faker(\"es_ES\")\n",
    "trucks = db[\"trucks\"]\n",
    "#drop the collection\n",
    "trucks.drop()\n",
    "for i in range(20):\n",
    "    truck = {\n",
    "        \"id\": fake.license_plate_unified().replace(\" \", \"\"),\n",
    "        \"capacity\": fake.random_int(min=10, max=30)\n",
    "    }\n",
    "    trucks.insert_one(truck)"
   ]
  },
  {
   "cell_type": "code",
   "execution_count": null,
   "metadata": {},
   "outputs": [],
   "source": [
    "def create_object_id(string):\n",
    "    hashed = hashlib.sha1(string.encode()).hexdigest()\n",
    "    object_id = ObjectId(hashed[:24])\n",
    "    return object_id"
   ]
  },
  {
   "cell_type": "code",
   "execution_count": null,
   "metadata": {},
   "outputs": [],
   "source": [
    "locations = db[\"locations\"]\n",
    "#drop the collection\n",
    "locations.drop()\n",
    "farmacias = json.load(open(\"../farmacias/farmacias.json\", \"r\"))\n",
    "#filter farmacias with no coordinates\n",
    "farmacias = [farmacia for farmacia in farmacias if farmacia[\"coordinates\"] is not None and farmacia[\"coordinates\"][\"latitude\"] is not None and farmacia[\"coordinates\"][\"longitude\"] is not None]\n",
    "# eliminate farmacias with no name or duplicate names\n",
    "farmacias = {farmacia[\"name\"]: farmacia for farmacia in farmacias}.values()\n",
    "\n",
    "#add _id\n",
    "for farmacia in farmacias:\n",
    "    farmacia[\"_id\"] = create_object_id(farmacia[\"name\"])\n",
    "\n",
    "locations.insert_many(farmacias)"
   ]
  },
  {
   "cell_type": "code",
   "execution_count": null,
   "metadata": {},
   "outputs": [],
   "source": [
    "# plot al the locations in a map\n",
    "import folium\n",
    "\n",
    "m = folium.Map(location=[40.416775, -3.703790], zoom_start=9)\n",
    "for farmacia in farmacias:\n",
    "    folium.Marker([farmacia[\"coordinates\"][\"latitude\"], farmacia[\"coordinates\"][\"longitude\"]], popup=farmacia[\"name\"]).add_to(m)\n",
    "m"
   ]
  }
 ],
 "metadata": {
  "kernelspec": {
   "display_name": "Python 3",
   "language": "python",
   "name": "python3"
  },
  "language_info": {
   "codemirror_mode": {
    "name": "ipython",
    "version": 3
   },
   "file_extension": ".py",
   "mimetype": "text/x-python",
   "name": "python",
   "nbconvert_exporter": "python",
   "pygments_lexer": "ipython3",
   "version": "3.9.6"
  },
  "orig_nbformat": 4,
  "vscode": {
   "interpreter": {
    "hash": "c0de1fe606f85d3f2aa9a903f2b0bf89b43d937b91ee737bd06cf0188ff610aa"
   }
  }
 },
 "nbformat": 4,
 "nbformat_minor": 2
}
