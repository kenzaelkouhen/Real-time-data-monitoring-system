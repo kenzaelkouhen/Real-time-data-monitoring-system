{
 "cells": [
  {
   "cell_type": "code",
   "execution_count": null,
   "metadata": {},
   "outputs": [],
   "source": [
    "import pandas as pd\n",
    "import numpy as np\n",
    "import pickle\n",
    "from sklearn.linear_model import LinearRegression\n",
    "from sklearn.preprocessing import LabelEncoder"
   ]
  },
  {
   "cell_type": "code",
   "execution_count": null,
   "metadata": {},
   "outputs": [],
   "source": [
    "# Adaptar a las rutas de los archivos\n",
    "eventos = pd.read_json(\"../../simulation.jsonlines\", lines=True)\n",
    "planes = pd.read_json(\"../../plans.jsonlines\", lines=True)"
   ]
  },
  {
   "cell_type": "code",
   "execution_count": 45,
   "metadata": {},
   "outputs": [
    {
     "data": {
      "text/plain": [
       "array(['Truck initialized', 'Truck received packets', 'Truck departed',\n",
       "       'Truck arrived', 'Truck started delivering',\n",
       "       'Truck ended delivering', 'Truck departed to depot',\n",
       "       'Truck ended route'], dtype=object)"
      ]
     },
     "execution_count": 45,
     "metadata": {},
     "output_type": "execute_result"
    }
   ],
   "source": [
    "eventos.eventType.unique()"
   ]
  },
  {
   "cell_type": "code",
   "execution_count": 44,
   "metadata": {},
   "outputs": [
    {
     "data": {
      "text/plain": [
       "Index(['eventDescription', 'eventTime', 'eventType', 'simulationId', 'truckId',\n",
       "       'prev_event', 'prev_time', 'delta'],\n",
       "      dtype='object')"
      ]
     },
     "execution_count": 44,
     "metadata": {},
     "output_type": "execute_result"
    }
   ],
   "source": [
    "eventos.columns"
   ]
  },
  {
   "cell_type": "code",
   "execution_count": null,
   "metadata": {},
   "outputs": [],
   "source": [
    "camiones = []\n",
    "for simId in planes.simulationId.unique():\n",
    "    for truck in planes[planes.simulationId == simId].trucks.values[0]:\n",
    "        camiones.append(pd.DataFrame(truck[\"route\"]).assign(simulationId=simId, truckId=truck[\"truck_id\"]))\n",
    "camiones = pd.concat(camiones)"
   ]
  },
  {
   "cell_type": "code",
   "execution_count": null,
   "metadata": {},
   "outputs": [],
   "source": [
    "tiempos_plan = camiones.sort_values([\"simulationId\",\"truckId\"]).assign(duration=lambda x: x[\"duration\"]*1000).groupby([\"simulationId\",\"truckId\"]).duration.agg(list).reset_index()\n",
    "tiempos_plan.rename(columns={\"duration\":\"tiempo_plan\"}, inplace=True)\n",
    "tiempos_plan"
   ]
  },
  {
   "cell_type": "code",
   "execution_count": null,
   "metadata": {},
   "outputs": [],
   "source": [
    "eventos = eventos.sort_values([\"simulationId\", \"truckId\", \"eventTime\"])\n",
    "eventos[\"prev_event\"] = eventos.groupby([\"truckId\", \"simulationId\"])[\"eventType\"].shift(1)\n",
    "eventos[\"prev_time\"] = eventos.groupby([\"truckId\", \"simulationId\"])[\"eventTime\"].shift(1)\n",
    "eventos[\"delta\"] = eventos.eventTime - eventos.prev_time\n",
    "tiempos_sim = eventos[eventos.eventType.isin([\"Truck arrived\", \"Truck ended route\"])].sort_values([\"simulationId\",\"truckId\", \"eventTime\"]).groupby([\"simulationId\",\"truckId\"]).delta.agg(list).reset_index()\n",
    "tiempos_sim.rename(columns={\"delta\":\"tiempo_sim\"}, inplace=True)\n",
    "tiempos_sim"
   ]
  },
  {
   "cell_type": "code",
   "execution_count": 46,
   "metadata": {},
   "outputs": [
    {
     "data": {
      "text/html": [
       "<div>\n",
       "<style scoped>\n",
       "    .dataframe tbody tr th:only-of-type {\n",
       "        vertical-align: middle;\n",
       "    }\n",
       "\n",
       "    .dataframe tbody tr th {\n",
       "        vertical-align: top;\n",
       "    }\n",
       "\n",
       "    .dataframe thead th {\n",
       "        text-align: right;\n",
       "    }\n",
       "</style>\n",
       "<table border=\"1\" class=\"dataframe\">\n",
       "  <thead>\n",
       "    <tr style=\"text-align: right;\">\n",
       "      <th></th>\n",
       "      <th>simulationId</th>\n",
       "      <th>truckId</th>\n",
       "      <th>tiempo_sim</th>\n",
       "      <th>tiempo_plan</th>\n",
       "    </tr>\n",
       "  </thead>\n",
       "  <tbody>\n",
       "    <tr>\n",
       "      <th>0</th>\n",
       "      <td>00ab3765-2a12-425d-a12a-07577a572829</td>\n",
       "      <td>0013DYS</td>\n",
       "      <td>[502180.0, 730650.0, 259140.0, 548940.0, 27281...</td>\n",
       "      <td>[502000, 730000, 259000, 548000, 272000, 1660000]</td>\n",
       "    </tr>\n",
       "    <tr>\n",
       "      <th>1</th>\n",
       "      <td>00ab3765-2a12-425d-a12a-07577a572829</td>\n",
       "      <td>3321FBL</td>\n",
       "      <td>[154980.0, 405820.0, 379110.0, 758550.0, 85260...</td>\n",
       "      <td>[154000, 405000, 379000, 758000, 85000, 422000...</td>\n",
       "    </tr>\n",
       "    <tr>\n",
       "      <th>2</th>\n",
       "      <td>00ab3765-2a12-425d-a12a-07577a572829</td>\n",
       "      <td>3953RLD</td>\n",
       "      <td>[486100.0, 1678300.0, 722340.0, 1684850.0]</td>\n",
       "      <td>[486000, 1678000, 722000, 1684000]</td>\n",
       "    </tr>\n",
       "    <tr>\n",
       "      <th>3</th>\n",
       "      <td>00ab3765-2a12-425d-a12a-07577a572829</td>\n",
       "      <td>5534TPH</td>\n",
       "      <td>[534930.0, 366310.0, 147260.0, 552830.0, 51980...</td>\n",
       "      <td>[534000, 366000, 147000, 552000, 51000, 777000...</td>\n",
       "    </tr>\n",
       "    <tr>\n",
       "      <th>4</th>\n",
       "      <td>00ab3765-2a12-425d-a12a-07577a572829</td>\n",
       "      <td>6270NFM</td>\n",
       "      <td>[1308010.0, 1377610.0, 1901050.0]</td>\n",
       "      <td>[1307000, 1377000, 1900000]</td>\n",
       "    </tr>\n",
       "    <tr>\n",
       "      <th>...</th>\n",
       "      <td>...</td>\n",
       "      <td>...</td>\n",
       "      <td>...</td>\n",
       "      <td>...</td>\n",
       "    </tr>\n",
       "    <tr>\n",
       "      <th>619</th>\n",
       "      <td>fd4bc7cb-f234-4653-a87d-2514d6df6eca</td>\n",
       "      <td>3953RLD</td>\n",
       "      <td>[154990.0, 4097980.0, 3830120.0, 511620.0]</td>\n",
       "      <td>[154000, 4097000, 3829000, 511000]</td>\n",
       "    </tr>\n",
       "    <tr>\n",
       "      <th>620</th>\n",
       "      <td>fd4bc7cb-f234-4653-a87d-2514d6df6eca</td>\n",
       "      <td>5030LXK</td>\n",
       "      <td>[715090.0, 322930.0, 223260.0, 877610.0, 89063...</td>\n",
       "      <td>[714000, 322000, 223000, 877000, 890000, 10100...</td>\n",
       "    </tr>\n",
       "    <tr>\n",
       "      <th>621</th>\n",
       "      <td>fd4bc7cb-f234-4653-a87d-2514d6df6eca</td>\n",
       "      <td>5534TPH</td>\n",
       "      <td>[1327170.0, 77850.0, 418140.0, 215750.0, 23805...</td>\n",
       "      <td>[1327000, 77000, 418000, 215000, 237000, 58100...</td>\n",
       "    </tr>\n",
       "    <tr>\n",
       "      <th>622</th>\n",
       "      <td>fd4bc7cb-f234-4653-a87d-2514d6df6eca</td>\n",
       "      <td>6270NFM</td>\n",
       "      <td>[772130.0, 169930.0, 124920.0, 191040.0, 19905...</td>\n",
       "      <td>[772000, 169000, 124000, 190000, 198000, 28800...</td>\n",
       "    </tr>\n",
       "    <tr>\n",
       "      <th>623</th>\n",
       "      <td>fd4bc7cb-f234-4653-a87d-2514d6df6eca</td>\n",
       "      <td>8386WZB</td>\n",
       "      <td>[4369570.0, 4419680.0]</td>\n",
       "      <td>[4369000, 4419000]</td>\n",
       "    </tr>\n",
       "  </tbody>\n",
       "</table>\n",
       "<p>624 rows × 4 columns</p>\n",
       "</div>"
      ],
      "text/plain": [
       "                             simulationId  truckId  \\\n",
       "0    00ab3765-2a12-425d-a12a-07577a572829  0013DYS   \n",
       "1    00ab3765-2a12-425d-a12a-07577a572829  3321FBL   \n",
       "2    00ab3765-2a12-425d-a12a-07577a572829  3953RLD   \n",
       "3    00ab3765-2a12-425d-a12a-07577a572829  5534TPH   \n",
       "4    00ab3765-2a12-425d-a12a-07577a572829  6270NFM   \n",
       "..                                    ...      ...   \n",
       "619  fd4bc7cb-f234-4653-a87d-2514d6df6eca  3953RLD   \n",
       "620  fd4bc7cb-f234-4653-a87d-2514d6df6eca  5030LXK   \n",
       "621  fd4bc7cb-f234-4653-a87d-2514d6df6eca  5534TPH   \n",
       "622  fd4bc7cb-f234-4653-a87d-2514d6df6eca  6270NFM   \n",
       "623  fd4bc7cb-f234-4653-a87d-2514d6df6eca  8386WZB   \n",
       "\n",
       "                                            tiempo_sim  \\\n",
       "0    [502180.0, 730650.0, 259140.0, 548940.0, 27281...   \n",
       "1    [154980.0, 405820.0, 379110.0, 758550.0, 85260...   \n",
       "2           [486100.0, 1678300.0, 722340.0, 1684850.0]   \n",
       "3    [534930.0, 366310.0, 147260.0, 552830.0, 51980...   \n",
       "4                    [1308010.0, 1377610.0, 1901050.0]   \n",
       "..                                                 ...   \n",
       "619         [154990.0, 4097980.0, 3830120.0, 511620.0]   \n",
       "620  [715090.0, 322930.0, 223260.0, 877610.0, 89063...   \n",
       "621  [1327170.0, 77850.0, 418140.0, 215750.0, 23805...   \n",
       "622  [772130.0, 169930.0, 124920.0, 191040.0, 19905...   \n",
       "623                             [4369570.0, 4419680.0]   \n",
       "\n",
       "                                           tiempo_plan  \n",
       "0    [502000, 730000, 259000, 548000, 272000, 1660000]  \n",
       "1    [154000, 405000, 379000, 758000, 85000, 422000...  \n",
       "2                   [486000, 1678000, 722000, 1684000]  \n",
       "3    [534000, 366000, 147000, 552000, 51000, 777000...  \n",
       "4                          [1307000, 1377000, 1900000]  \n",
       "..                                                 ...  \n",
       "619                 [154000, 4097000, 3829000, 511000]  \n",
       "620  [714000, 322000, 223000, 877000, 890000, 10100...  \n",
       "621  [1327000, 77000, 418000, 215000, 237000, 58100...  \n",
       "622  [772000, 169000, 124000, 190000, 198000, 28800...  \n",
       "623                                 [4369000, 4419000]  \n",
       "\n",
       "[624 rows x 4 columns]"
      ]
     },
     "execution_count": 46,
     "metadata": {},
     "output_type": "execute_result"
    }
   ],
   "source": [
    "retrasos = tiempos_sim.merge(tiempos_plan, on=[\"simulationId\",\"truckId\"]).dropna().reset_index(drop=True)\n",
    "retrasos"
   ]
  },
  {
   "cell_type": "code",
   "execution_count": null,
   "metadata": {},
   "outputs": [],
   "source": [
    "arr = np.array(retrasos.apply(lambda x: list(zip(x.tiempo_plan, x.tiempo_sim)), axis=1).explode())\n",
    "arr = np.array(arr.tolist())\n",
    "x = arr[:,0].reshape(-1,1) / 1000\n",
    "y = arr[:,1].reshape(-1,1) / 1000\n"
   ]
  },
  {
   "cell_type": "code",
   "execution_count": null,
   "metadata": {},
   "outputs": [],
   "source": [
    "# Entrenar modelo\n",
    "travelModel = LinearRegression()\n",
    "travelModel.fit(x, y)\n",
    "\n",
    "# Guardar modelo\n",
    "with open('travelModel.pkl', 'wb') as f:\n",
    "    pickle.dump(travelModel, f)\n"
   ]
  },
  {
   "cell_type": "code",
   "execution_count": null,
   "metadata": {},
   "outputs": [],
   "source": [
    "tiemposEntrega = eventos[eventos.eventType==\"Truck ended delivering\"][[\"truckId\", \"delta\"]]\n",
    "\n",
    "# Label encoding\n",
    "le = LabelEncoder()\n",
    "tiemposEntrega[\"truckId\"] = le.fit_transform(tiemposEntrega[\"truckId\"])\n",
    "\n",
    "# Entrenar modelo\n",
    "deliveryModel = LinearRegression()\n",
    "deliveryModel.fit(tiemposEntrega[\"truckId\"].values.reshape(-1,1), tiemposEntrega[\"delta\"].values.reshape(-1,1))\n",
    "\n",
    "# Guardar modelo y label encoder\n",
    "with open('deliveryModel.pkl', 'wb') as f:\n",
    "    pickle.dump(deliveryModel, f)\n",
    "    \n",
    "with open('le.pkl', 'wb') as f:\n",
    "    pickle.dump(le, f)\n"
   ]
  }
 ],
 "metadata": {
  "kernelspec": {
   "display_name": "Python 3",
   "language": "python",
   "name": "python3"
  },
  "language_info": {
   "codemirror_mode": {
    "name": "ipython",
    "version": 3
   },
   "file_extension": ".py",
   "mimetype": "text/x-python",
   "name": "python",
   "nbconvert_exporter": "python",
   "pygments_lexer": "ipython3",
   "version": "3.9.6"
  },
  "orig_nbformat": 4,
  "vscode": {
   "interpreter": {
    "hash": "c0de1fe606f85d3f2aa9a903f2b0bf89b43d937b91ee737bd06cf0188ff610aa"
   }
  }
 },
 "nbformat": 4,
 "nbformat_minor": 2
}
